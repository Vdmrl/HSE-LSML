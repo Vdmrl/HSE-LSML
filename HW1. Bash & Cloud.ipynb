{
 "cells": [
  {
   "cell_type": "code",
   "execution_count": 1,
   "id": "398f8f08",
   "metadata": {},
   "outputs": [
    {
     "name": "stdout",
     "output_type": "stream",
     "text": [
      "Requirement already satisfied: kaggle in ./.local/lib/python3.8/site-packages (1.6.14)\n",
      "Requirement already satisfied: tqdm in ./.local/lib/python3.8/site-packages (from kaggle) (4.66.4)\n",
      "Requirement already satisfied: six>=1.10 in /usr/lib/python3/dist-packages (from kaggle) (1.14.0)\n",
      "Requirement already satisfied: python-slugify in ./.local/lib/python3.8/site-packages (from kaggle) (8.0.4)\n",
      "Requirement already satisfied: urllib3 in /usr/lib/python3/dist-packages (from kaggle) (1.25.8)\n",
      "Requirement already satisfied: python-dateutil in /usr/lib/python3/dist-packages (from kaggle) (2.7.3)\n",
      "Requirement already satisfied: bleach in ./.local/lib/python3.8/site-packages (from kaggle) (6.1.0)\n",
      "Requirement already satisfied: certifi>=2023.7.22 in ./.local/lib/python3.8/site-packages (from kaggle) (2024.6.2)\n",
      "Requirement already satisfied: requests in /usr/lib/python3/dist-packages (from kaggle) (2.22.0)\n",
      "Requirement already satisfied: text-unidecode>=1.3 in ./.local/lib/python3.8/site-packages (from python-slugify->kaggle) (1.3)\n",
      "Requirement already satisfied: webencodings in ./.local/lib/python3.8/site-packages (from bleach->kaggle) (0.5.1)\n",
      "Reading package lists... Done\n",
      "Building dependency tree       \n",
      "Reading state information... Done\n",
      "p7zip-full is already the newest version (16.02+dfsg-7build1).\n",
      "0 upgraded, 0 newly installed, 0 to remove and 37 not upgraded.\n"
     ]
    }
   ],
   "source": [
    "# install everything\n",
    "!pip install kaggle\n",
    "!sudo apt-get install -y p7zip-full"
   ]
  },
  {
   "cell_type": "code",
   "execution_count": 2,
   "id": "914916f8",
   "metadata": {},
   "outputs": [],
   "source": [
    "!sudo ln -sf ~/.local/bin/kaggle /usr/bin/kaggle"
   ]
  },
  {
   "cell_type": "code",
   "execution_count": 3,
   "id": "2792d0a8",
   "metadata": {},
   "outputs": [],
   "source": [
    "!mkdir -p ~/.kaggle\n",
    "!touch ~/.kaggle/kaggle.json"
   ]
  },
  {
   "cell_type": "code",
   "execution_count": 4,
   "id": "e738147c",
   "metadata": {},
   "outputs": [],
   "source": [
    "!cp kaggle.json ~/.kaggle/"
   ]
  },
  {
   "cell_type": "code",
   "execution_count": 5,
   "id": "4100e8a5",
   "metadata": {},
   "outputs": [],
   "source": [
    "!chmod 600 ~/.kaggle/kaggle.json"
   ]
  },
  {
   "cell_type": "code",
   "execution_count": 6,
   "id": "9e2a7bb9",
   "metadata": {},
   "outputs": [
    {
     "name": "stdout",
     "output_type": "stream",
     "text": [
      "UserInfo.tsv.7z: Skipping, found more recently modified local copy (use --force to force download)\r\n"
     ]
    }
   ],
   "source": [
    "!kaggle competitions download -c avito-context-ad-clicks -f UserInfo.tsv.7z"
   ]
  },
  {
   "cell_type": "code",
   "execution_count": 7,
   "id": "7d39a8d2",
   "metadata": {},
   "outputs": [
    {
     "name": "stdout",
     "output_type": "stream",
     "text": [
      "\n",
      "7-Zip [64] 16.02 : Copyright (c) 1999-2016 Igor Pavlov : 2016-05-21\n",
      "p7zip Version 16.02 (locale=en_US.UTF-8,Utf16=on,HugeFiles=on,64 bits,2 CPUs Intel Xeon Processor (Icelake) (606A0),ASM,AES-NI)\n",
      "\n",
      "Scanning the drive for archives:\n",
      "  0M Sca        1 file, 12681881 bytes (13 MiB)\n",
      "\n",
      "Extracting archive: UserInfo.tsv.7z\n",
      "--\n",
      "Path = UserInfo.tsv.7z\n",
      "Type = 7z\n",
      "Physical Size = 12681881\n",
      "Headers Size = 126\n",
      "Method = LZMA:24\n",
      "Solid = -\n",
      "Blocks = 1\n",
      "\n",
      "     20% - UserInfo.ts                   40% - UserInfo.ts                   60% - UserInfo.ts                   80% - UserInfo.ts                  100%    Everything is Ok\n",
      "\n",
      "Size:       104614699\n",
      "Compressed: 12681881\n"
     ]
    }
   ],
   "source": [
    "!mkdir -p data\n",
    "!7z x UserInfo.tsv.7z -y -o./data/"
   ]
  },
  {
   "cell_type": "code",
   "execution_count": 8,
   "id": "e7ef6307",
   "metadata": {},
   "outputs": [
    {
     "name": "stdout",
     "output_type": "stream",
     "text": [
      "UserInfo.tsv\r\n"
     ]
    }
   ],
   "source": [
    "!cd data && ls"
   ]
  },
  {
   "cell_type": "code",
   "execution_count": 15,
   "id": "6efbfcf5",
   "metadata": {},
   "outputs": [
    {
     "name": "stdout",
     "output_type": "stream",
     "text": [
      "tail: error writing 'standard output': Broken pipe\n",
      "sort: write failed: 'standard output': Broken pipe\n",
      "sort: write error\n"
     ]
    }
   ],
   "source": [
    "!tail -n +2 data/UserInfo.tsv | head -n 1000000 | cut -d'\t' -f2 | sort | uniq -c | sort -n -r | head -n 10 > top10users.txt"
   ]
  },
  {
   "cell_type": "code",
   "execution_count": 17,
   "id": "4b4cf738",
   "metadata": {},
   "outputs": [
    {
     "name": "stdout",
     "output_type": "stream",
     "text": [
      "  73498 22293\r\n",
      "  54343 57133\r\n",
      "  45760 10275\r\n",
      "  45199 55731\r\n",
      "  34479 63091\r\n",
      "  30008 24424\r\n",
      "  25362 33726\r\n",
      "  24690 12505\r\n",
      "  23423 30644\r\n",
      "  22115 33735\r\n"
     ]
    }
   ],
   "source": [
    "!cat top10users.txt"
   ]
  },
  {
   "cell_type": "code",
   "execution_count": 20,
   "id": "b392040c",
   "metadata": {},
   "outputs": [
    {
     "name": "stdout",
     "output_type": "stream",
     "text": [
      "2024-06-29 20:23:35,215 INFO impl.MetricsConfig: Loaded properties from hadoop-metrics2.properties\n",
      "2024-06-29 20:23:35,302 INFO impl.MetricsSystemImpl: Scheduled Metric snapshot period at 10 second(s).\n",
      "2024-06-29 20:23:35,302 INFO impl.MetricsSystemImpl: s3a-file-system metrics system started\n",
      "2024-06-29 20:23:37,345 INFO impl.MetricsSystemImpl: Stopping s3a-file-system metrics system...\n",
      "2024-06-29 20:23:37,345 INFO impl.MetricsSystemImpl: s3a-file-system metrics system stopped.\n",
      "2024-06-29 20:23:37,345 INFO impl.MetricsSystemImpl: s3a-file-system metrics system shutdown complete.\n"
     ]
    }
   ],
   "source": [
    "!hdfs dfs -put top10users.txt s3a://lsml/top10users.txt"
   ]
  },
  {
   "cell_type": "code",
   "execution_count": 23,
   "id": "51f41f4e",
   "metadata": {},
   "outputs": [
    {
     "name": "stdout",
     "output_type": "stream",
     "text": [
      "2024-06-29 20:25:40,872 INFO impl.MetricsConfig: Loaded properties from hadoop-metrics2.properties\n",
      "2024-06-29 20:25:40,952 INFO impl.MetricsSystemImpl: Scheduled Metric snapshot period at 10 second(s).\n",
      "2024-06-29 20:25:40,952 INFO impl.MetricsSystemImpl: s3a-file-system metrics system started\n",
      "Found 2 items\n",
      "-rw-rw-rw-   1 ubuntu ubuntu          5 2024-06-26 14:53 s3a://lsml/kuka.txt\n",
      "-rw-rw-rw-   1 ubuntu ubuntu        140 2024-06-29 20:23 s3a://lsml/top10users.txt\n",
      "2024-06-29 20:25:42,603 INFO impl.MetricsSystemImpl: Stopping s3a-file-system metrics system...\n",
      "2024-06-29 20:25:42,603 INFO impl.MetricsSystemImpl: s3a-file-system metrics system stopped.\n",
      "2024-06-29 20:25:42,603 INFO impl.MetricsSystemImpl: s3a-file-system metrics system shutdown complete.\n"
     ]
    }
   ],
   "source": [
    "!hdfs dfs -ls s3a://lsml/"
   ]
  },
  {
   "cell_type": "code",
   "execution_count": 26,
   "id": "aafc1f33",
   "metadata": {},
   "outputs": [
    {
     "name": "stdout",
     "output_type": "stream",
     "text": [
      "2024-06-29 20:27:06,187 INFO impl.MetricsConfig: Loaded properties from hadoop-metrics2.properties\n",
      "2024-06-29 20:27:06,271 INFO impl.MetricsSystemImpl: Scheduled Metric snapshot period at 10 second(s).\n",
      "2024-06-29 20:27:06,271 INFO impl.MetricsSystemImpl: s3a-file-system metrics system started\n",
      "  73498 22293\n",
      "  54343 57133\n",
      "  45760 10275\n",
      "  45199 55731\n",
      "  34479 63091\n",
      "  30008 24424\n",
      "  25362 33726\n",
      "  24690 12505\n",
      "  23423 30644\n",
      "  22115 33735\n",
      "2024-06-29 20:27:07,784 INFO impl.MetricsSystemImpl: Stopping s3a-file-system metrics system...\n",
      "2024-06-29 20:27:07,784 INFO impl.MetricsSystemImpl: s3a-file-system metrics system stopped.\n",
      "2024-06-29 20:27:07,784 INFO impl.MetricsSystemImpl: s3a-file-system metrics system shutdown complete.\n"
     ]
    }
   ],
   "source": [
    "!hdfs dfs -cat s3a://lsml/top10users.txt"
   ]
  },
  {
   "cell_type": "code",
   "execution_count": 18,
   "id": "47c52ea7",
   "metadata": {},
   "outputs": [
    {
     "name": "stdout",
     "output_type": "stream",
     "text": [
      "Конец\r\n"
     ]
    }
   ],
   "source": [
    "! echo \"Конец\""
   ]
  }
 ],
 "metadata": {
  "kernelspec": {
   "display_name": "Python 3",
   "language": "python",
   "name": "python3"
  },
  "language_info": {
   "codemirror_mode": {
    "name": "ipython",
    "version": 3
   },
   "file_extension": ".py",
   "mimetype": "text/x-python",
   "name": "python",
   "nbconvert_exporter": "python",
   "pygments_lexer": "ipython3",
   "version": "3.8.10"
  }
 },
 "nbformat": 4,
 "nbformat_minor": 5
}
